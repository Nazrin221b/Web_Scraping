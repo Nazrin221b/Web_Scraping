{
 "cells": [
  {
   "cell_type": "code",
   "execution_count": 1,
   "id": "c1aa5822",
   "metadata": {},
   "outputs": [],
   "source": [
    "import pandas as pd"
   ]
  },
  {
   "cell_type": "code",
   "execution_count": 2,
   "id": "d7a52599",
   "metadata": {},
   "outputs": [],
   "source": [
    "data = pd.read_excel(r'Azerbaijani_films.xlsx', engine='openpyxl')"
   ]
  },
  {
   "cell_type": "code",
   "execution_count": 3,
   "id": "07152f0d",
   "metadata": {},
   "outputs": [
    {
     "data": {
      "text/html": [
       "<div>\n",
       "<style scoped>\n",
       "    .dataframe tbody tr th:only-of-type {\n",
       "        vertical-align: middle;\n",
       "    }\n",
       "\n",
       "    .dataframe tbody tr th {\n",
       "        vertical-align: top;\n",
       "    }\n",
       "\n",
       "    .dataframe thead th {\n",
       "        text-align: right;\n",
       "    }\n",
       "</style>\n",
       "<table border=\"1\" class=\"dataframe\">\n",
       "  <thead>\n",
       "    <tr style=\"text-align: right;\">\n",
       "      <th></th>\n",
       "      <th>Movie_name</th>\n",
       "      <th>Genre</th>\n",
       "      <th>Director</th>\n",
       "      <th>Writer</th>\n",
       "      <th>Painter</th>\n",
       "      <th>Firm</th>\n",
       "      <th>Type</th>\n",
       "      <th>Color</th>\n",
       "      <th>Runtime</th>\n",
       "      <th>Year</th>\n",
       "    </tr>\n",
       "  </thead>\n",
       "  <tbody>\n",
       "    <tr>\n",
       "      <th>0</th>\n",
       "      <td>26 komissar</td>\n",
       "      <td>tarixi, dram</td>\n",
       "      <td>Nikolay Şengelaya</td>\n",
       "      <td>Aleksandr Rjeşevski, Nikolay Şengelaya, A. Ami...</td>\n",
       "      <td>Viktor Aden</td>\n",
       "      <td>Azərfilm</td>\n",
       "      <td>tammetrajlı bədii film</td>\n",
       "      <td>ağ-qara</td>\n",
       "      <td>78</td>\n",
       "      <td>1932</td>\n",
       "    </tr>\n",
       "    <tr>\n",
       "      <th>1</th>\n",
       "      <td>40-cı qapı</td>\n",
       "      <td>dram</td>\n",
       "      <td>Elçin Musaoğlu</td>\n",
       "      <td>Elçin Musaoğlu</td>\n",
       "      <td>Elxan Nəbiyev</td>\n",
       "      <td>Ritm Prodakşn</td>\n",
       "      <td>tammetrajlı bədii film</td>\n",
       "      <td>rəngli</td>\n",
       "      <td>81</td>\n",
       "      <td>2008</td>\n",
       "    </tr>\n",
       "    <tr>\n",
       "      <th>2</th>\n",
       "      <td>1001-ci qastrol</td>\n",
       "      <td>komediya, musiqili</td>\n",
       "      <td>Oqtay Mirqasımov</td>\n",
       "      <td>Vaqif Səmədoğlu, Oqtay Mirqasımov</td>\n",
       "      <td>Rafiz İsmayılov</td>\n",
       "      <td>\"Azərbaycanfilm\" kinostudiyası</td>\n",
       "      <td>tammetrajlı bədii film</td>\n",
       "      <td>rəngli</td>\n",
       "      <td>65</td>\n",
       "      <td>1974</td>\n",
       "    </tr>\n",
       "    <tr>\n",
       "      <th>3</th>\n",
       "      <td>Ad günü</td>\n",
       "      <td>dram</td>\n",
       "      <td>Rasim Ocaqov</td>\n",
       "      <td>Rüstəm İbrahimbəyov</td>\n",
       "      <td>Kamil Nəcəfzadə</td>\n",
       "      <td>\"Azərbaycanfilm\" kinostudiyası</td>\n",
       "      <td>tammetrajlı bədii film</td>\n",
       "      <td>rəngli</td>\n",
       "      <td>71</td>\n",
       "      <td>1977</td>\n",
       "    </tr>\n",
       "    <tr>\n",
       "      <th>4</th>\n",
       "      <td>Ağ atlı oğlan</td>\n",
       "      <td>dram, döyüş, müharibə, uşaq</td>\n",
       "      <td>Ənvər Əbluc</td>\n",
       "      <td>İsi Məlikzadə, Ənvər Əbluc</td>\n",
       "      <td>Nizami Bəydəmirov</td>\n",
       "      <td>\"Azərbaycanfilm\" kinostudiyası</td>\n",
       "      <td>tammetrajlı bədii film</td>\n",
       "      <td>NaN</td>\n",
       "      <td>64</td>\n",
       "      <td>1995</td>\n",
       "    </tr>\n",
       "    <tr>\n",
       "      <th>5</th>\n",
       "      <td>\"Ağ-qara\" gecələr</td>\n",
       "      <td>dram</td>\n",
       "      <td>Ayaz Salayev</td>\n",
       "      <td>Ayaz Salayev, [1], Nadya Mağuli</td>\n",
       "      <td>İbrahimxəlil Aminov, Əziz Məmmədov</td>\n",
       "      <td>\"Azərbaycanfilm\" kinostudiyası</td>\n",
       "      <td>tammetrajlı bədii film</td>\n",
       "      <td>rəngli</td>\n",
       "      <td>NaN</td>\n",
       "      <td>2013</td>\n",
       "    </tr>\n",
       "    <tr>\n",
       "      <th>6</th>\n",
       "      <td>Axırıncı aşırım</td>\n",
       "      <td>dram, döyüş, macəra</td>\n",
       "      <td>Kamil Rüstəmbəyov</td>\n",
       "      <td>Fərman Kərimzadə</td>\n",
       "      <td>Nadir Zeynalov</td>\n",
       "      <td>\"Azərbaycanfilm\" kinostudiyası</td>\n",
       "      <td>tammetrajlı bədii film</td>\n",
       "      <td>ağ-qara</td>\n",
       "      <td>73</td>\n",
       "      <td>1971</td>\n",
       "    </tr>\n",
       "    <tr>\n",
       "      <th>7</th>\n",
       "      <td>Ailə</td>\n",
       "      <td>dram</td>\n",
       "      <td>Rüstəm İbrahimbəyov, Ramiz Həsənoğlu</td>\n",
       "      <td>Rüstəm İbrahimbəyov</td>\n",
       "      <td>Şamil Nəcəfzadə</td>\n",
       "      <td>NaN</td>\n",
       "      <td>tammetrajlı bədii film</td>\n",
       "      <td>rəngli</td>\n",
       "      <td>103</td>\n",
       "      <td>1998</td>\n",
       "    </tr>\n",
       "    <tr>\n",
       "      <th>8</th>\n",
       "      <td>Aktrisa</td>\n",
       "      <td>dram, cinayət, triller</td>\n",
       "      <td>Rövşən İsax</td>\n",
       "      <td>İlqar Fəhmi, Rövşən İsax</td>\n",
       "      <td>Mustafa Mustafayev (dekorator rəssam), Gülnarə...</td>\n",
       "      <td>\"Pozitiv Mediya\" Prodüser Mərkəzi</td>\n",
       "      <td>tammetrajlı bədii film</td>\n",
       "      <td>rəngli</td>\n",
       "      <td>97</td>\n",
       "      <td>2011</td>\n",
       "    </tr>\n",
       "    <tr>\n",
       "      <th>9</th>\n",
       "      <td>Alma almaya bənzər</td>\n",
       "      <td>komediya, musiqili</td>\n",
       "      <td>Arif Babayev</td>\n",
       "      <td>Alla Axundova</td>\n",
       "      <td>Firəngiz Qurbanova</td>\n",
       "      <td>\"Azərbaycanfilm\" kinostudiyası</td>\n",
       "      <td>tammetrajlı bədii film</td>\n",
       "      <td>rəngli</td>\n",
       "      <td>81</td>\n",
       "      <td>1975</td>\n",
       "    </tr>\n",
       "  </tbody>\n",
       "</table>\n",
       "</div>"
      ],
      "text/plain": [
       "           Movie_name                        Genre  \\\n",
       "0         26 komissar                 tarixi, dram   \n",
       "1          40-cı qapı                         dram   \n",
       "2     1001-ci qastrol           komediya, musiqili   \n",
       "3             Ad günü                         dram   \n",
       "4       Ağ atlı oğlan  dram, döyüş, müharibə, uşaq   \n",
       "5   \"Ağ-qara\" gecələr                         dram   \n",
       "6     Axırıncı aşırım          dram, döyüş, macəra   \n",
       "7                Ailə                         dram   \n",
       "8             Aktrisa       dram, cinayət, triller   \n",
       "9  Alma almaya bənzər           komediya, musiqili   \n",
       "\n",
       "                               Director  \\\n",
       "0                     Nikolay Şengelaya   \n",
       "1                        Elçin Musaoğlu   \n",
       "2                      Oqtay Mirqasımov   \n",
       "3                          Rasim Ocaqov   \n",
       "4                           Ənvər Əbluc   \n",
       "5                          Ayaz Salayev   \n",
       "6                     Kamil Rüstəmbəyov   \n",
       "7  Rüstəm İbrahimbəyov, Ramiz Həsənoğlu   \n",
       "8                           Rövşən İsax   \n",
       "9                          Arif Babayev   \n",
       "\n",
       "                                              Writer  \\\n",
       "0  Aleksandr Rjeşevski, Nikolay Şengelaya, A. Ami...   \n",
       "1                                     Elçin Musaoğlu   \n",
       "2                  Vaqif Səmədoğlu, Oqtay Mirqasımov   \n",
       "3                                Rüstəm İbrahimbəyov   \n",
       "4                         İsi Məlikzadə, Ənvər Əbluc   \n",
       "5                    Ayaz Salayev, [1], Nadya Mağuli   \n",
       "6                                   Fərman Kərimzadə   \n",
       "7                                Rüstəm İbrahimbəyov   \n",
       "8                           İlqar Fəhmi, Rövşən İsax   \n",
       "9                                      Alla Axundova   \n",
       "\n",
       "                                             Painter  \\\n",
       "0                                        Viktor Aden   \n",
       "1                                      Elxan Nəbiyev   \n",
       "2                                    Rafiz İsmayılov   \n",
       "3                                    Kamil Nəcəfzadə   \n",
       "4                                  Nizami Bəydəmirov   \n",
       "5                 İbrahimxəlil Aminov, Əziz Məmmədov   \n",
       "6                                     Nadir Zeynalov   \n",
       "7                                    Şamil Nəcəfzadə   \n",
       "8  Mustafa Mustafayev (dekorator rəssam), Gülnarə...   \n",
       "9                                 Firəngiz Qurbanova   \n",
       "\n",
       "                                Firm                    Type    Color Runtime  \\\n",
       "0                           Azərfilm  tammetrajlı bədii film  ağ-qara      78   \n",
       "1                      Ritm Prodakşn  tammetrajlı bədii film   rəngli      81   \n",
       "2     \"Azərbaycanfilm\" kinostudiyası  tammetrajlı bədii film   rəngli      65   \n",
       "3     \"Azərbaycanfilm\" kinostudiyası  tammetrajlı bədii film   rəngli      71   \n",
       "4     \"Azərbaycanfilm\" kinostudiyası  tammetrajlı bədii film      NaN      64   \n",
       "5     \"Azərbaycanfilm\" kinostudiyası  tammetrajlı bədii film   rəngli     NaN   \n",
       "6     \"Azərbaycanfilm\" kinostudiyası  tammetrajlı bədii film  ağ-qara      73   \n",
       "7                                NaN  tammetrajlı bədii film   rəngli     103   \n",
       "8  \"Pozitiv Mediya\" Prodüser Mərkəzi  tammetrajlı bədii film   rəngli      97   \n",
       "9     \"Azərbaycanfilm\" kinostudiyası  tammetrajlı bədii film   rəngli      81   \n",
       "\n",
       "   Year  \n",
       "0  1932  \n",
       "1  2008  \n",
       "2  1974  \n",
       "3  1977  \n",
       "4  1995  \n",
       "5  2013  \n",
       "6  1971  \n",
       "7  1998  \n",
       "8  2011  \n",
       "9  1975  "
      ]
     },
     "execution_count": 3,
     "metadata": {},
     "output_type": "execute_result"
    }
   ],
   "source": [
    "data.head(10)"
   ]
  },
  {
   "cell_type": "code",
   "execution_count": null,
   "id": "188d3f3a",
   "metadata": {},
   "outputs": [],
   "source": []
  },
  {
   "cell_type": "code",
   "execution_count": null,
   "id": "47be21f9",
   "metadata": {},
   "outputs": [],
   "source": []
  },
  {
   "cell_type": "markdown",
   "id": "1921ddf1",
   "metadata": {},
   "source": [
    "## Checking Duplicates and Missing rows"
   ]
  },
  {
   "cell_type": "code",
   "execution_count": 4,
   "id": "3e88a981",
   "metadata": {},
   "outputs": [],
   "source": [
    "mask = data.duplicated()"
   ]
  },
  {
   "cell_type": "code",
   "execution_count": 5,
   "id": "7d17b3da",
   "metadata": {},
   "outputs": [
    {
     "data": {
      "text/html": [
       "<div>\n",
       "<style scoped>\n",
       "    .dataframe tbody tr th:only-of-type {\n",
       "        vertical-align: middle;\n",
       "    }\n",
       "\n",
       "    .dataframe tbody tr th {\n",
       "        vertical-align: top;\n",
       "    }\n",
       "\n",
       "    .dataframe thead th {\n",
       "        text-align: right;\n",
       "    }\n",
       "</style>\n",
       "<table border=\"1\" class=\"dataframe\">\n",
       "  <thead>\n",
       "    <tr style=\"text-align: right;\">\n",
       "      <th></th>\n",
       "      <th>Movie_name</th>\n",
       "      <th>Genre</th>\n",
       "      <th>Director</th>\n",
       "      <th>Writer</th>\n",
       "      <th>Painter</th>\n",
       "      <th>Firm</th>\n",
       "      <th>Type</th>\n",
       "      <th>Color</th>\n",
       "      <th>Runtime</th>\n",
       "      <th>Year</th>\n",
       "    </tr>\n",
       "  </thead>\n",
       "  <tbody>\n",
       "    <tr>\n",
       "      <th>66</th>\n",
       "      <td>NaN</td>\n",
       "      <td>NaN</td>\n",
       "      <td>NaN</td>\n",
       "      <td>NaN</td>\n",
       "      <td>NaN</td>\n",
       "      <td>NaN</td>\n",
       "      <td>NaN</td>\n",
       "      <td>NaN</td>\n",
       "      <td>NaN</td>\n",
       "      <td>NaN</td>\n",
       "    </tr>\n",
       "    <tr>\n",
       "      <th>75</th>\n",
       "      <td>NaN</td>\n",
       "      <td>NaN</td>\n",
       "      <td>NaN</td>\n",
       "      <td>NaN</td>\n",
       "      <td>NaN</td>\n",
       "      <td>NaN</td>\n",
       "      <td>NaN</td>\n",
       "      <td>NaN</td>\n",
       "      <td>NaN</td>\n",
       "      <td>NaN</td>\n",
       "    </tr>\n",
       "    <tr>\n",
       "      <th>126</th>\n",
       "      <td>NaN</td>\n",
       "      <td>NaN</td>\n",
       "      <td>NaN</td>\n",
       "      <td>NaN</td>\n",
       "      <td>NaN</td>\n",
       "      <td>NaN</td>\n",
       "      <td>NaN</td>\n",
       "      <td>NaN</td>\n",
       "      <td>NaN</td>\n",
       "      <td>NaN</td>\n",
       "    </tr>\n",
       "    <tr>\n",
       "      <th>133</th>\n",
       "      <td>NaN</td>\n",
       "      <td>NaN</td>\n",
       "      <td>NaN</td>\n",
       "      <td>NaN</td>\n",
       "      <td>NaN</td>\n",
       "      <td>NaN</td>\n",
       "      <td>NaN</td>\n",
       "      <td>NaN</td>\n",
       "      <td>NaN</td>\n",
       "      <td>NaN</td>\n",
       "    </tr>\n",
       "    <tr>\n",
       "      <th>141</th>\n",
       "      <td>NaN</td>\n",
       "      <td>NaN</td>\n",
       "      <td>NaN</td>\n",
       "      <td>NaN</td>\n",
       "      <td>NaN</td>\n",
       "      <td>NaN</td>\n",
       "      <td>NaN</td>\n",
       "      <td>NaN</td>\n",
       "      <td>NaN</td>\n",
       "      <td>NaN</td>\n",
       "    </tr>\n",
       "    <tr>\n",
       "      <th>161</th>\n",
       "      <td>NaN</td>\n",
       "      <td>NaN</td>\n",
       "      <td>NaN</td>\n",
       "      <td>NaN</td>\n",
       "      <td>NaN</td>\n",
       "      <td>NaN</td>\n",
       "      <td>NaN</td>\n",
       "      <td>NaN</td>\n",
       "      <td>NaN</td>\n",
       "      <td>NaN</td>\n",
       "    </tr>\n",
       "    <tr>\n",
       "      <th>167</th>\n",
       "      <td>NaN</td>\n",
       "      <td>NaN</td>\n",
       "      <td>NaN</td>\n",
       "      <td>NaN</td>\n",
       "      <td>NaN</td>\n",
       "      <td>NaN</td>\n",
       "      <td>NaN</td>\n",
       "      <td>NaN</td>\n",
       "      <td>NaN</td>\n",
       "      <td>NaN</td>\n",
       "    </tr>\n",
       "    <tr>\n",
       "      <th>176</th>\n",
       "      <td>NaN</td>\n",
       "      <td>NaN</td>\n",
       "      <td>NaN</td>\n",
       "      <td>NaN</td>\n",
       "      <td>NaN</td>\n",
       "      <td>NaN</td>\n",
       "      <td>NaN</td>\n",
       "      <td>NaN</td>\n",
       "      <td>NaN</td>\n",
       "      <td>NaN</td>\n",
       "    </tr>\n",
       "    <tr>\n",
       "      <th>192</th>\n",
       "      <td>NaN</td>\n",
       "      <td>NaN</td>\n",
       "      <td>NaN</td>\n",
       "      <td>NaN</td>\n",
       "      <td>NaN</td>\n",
       "      <td>NaN</td>\n",
       "      <td>NaN</td>\n",
       "      <td>NaN</td>\n",
       "      <td>NaN</td>\n",
       "      <td>NaN</td>\n",
       "    </tr>\n",
       "    <tr>\n",
       "      <th>205</th>\n",
       "      <td>NaN</td>\n",
       "      <td>NaN</td>\n",
       "      <td>NaN</td>\n",
       "      <td>NaN</td>\n",
       "      <td>NaN</td>\n",
       "      <td>NaN</td>\n",
       "      <td>NaN</td>\n",
       "      <td>NaN</td>\n",
       "      <td>NaN</td>\n",
       "      <td>NaN</td>\n",
       "    </tr>\n",
       "    <tr>\n",
       "      <th>222</th>\n",
       "      <td>NaN</td>\n",
       "      <td>NaN</td>\n",
       "      <td>NaN</td>\n",
       "      <td>NaN</td>\n",
       "      <td>NaN</td>\n",
       "      <td>NaN</td>\n",
       "      <td>NaN</td>\n",
       "      <td>NaN</td>\n",
       "      <td>NaN</td>\n",
       "      <td>NaN</td>\n",
       "    </tr>\n",
       "    <tr>\n",
       "      <th>223</th>\n",
       "      <td>NaN</td>\n",
       "      <td>NaN</td>\n",
       "      <td>NaN</td>\n",
       "      <td>NaN</td>\n",
       "      <td>NaN</td>\n",
       "      <td>NaN</td>\n",
       "      <td>NaN</td>\n",
       "      <td>NaN</td>\n",
       "      <td>NaN</td>\n",
       "      <td>NaN</td>\n",
       "    </tr>\n",
       "    <tr>\n",
       "      <th>271</th>\n",
       "      <td>NaN</td>\n",
       "      <td>NaN</td>\n",
       "      <td>NaN</td>\n",
       "      <td>NaN</td>\n",
       "      <td>NaN</td>\n",
       "      <td>NaN</td>\n",
       "      <td>NaN</td>\n",
       "      <td>NaN</td>\n",
       "      <td>NaN</td>\n",
       "      <td>NaN</td>\n",
       "    </tr>\n",
       "  </tbody>\n",
       "</table>\n",
       "</div>"
      ],
      "text/plain": [
       "    Movie_name Genre Director Writer Painter Firm Type Color Runtime Year\n",
       "66         NaN   NaN      NaN    NaN     NaN  NaN  NaN   NaN     NaN  NaN\n",
       "75         NaN   NaN      NaN    NaN     NaN  NaN  NaN   NaN     NaN  NaN\n",
       "126        NaN   NaN      NaN    NaN     NaN  NaN  NaN   NaN     NaN  NaN\n",
       "133        NaN   NaN      NaN    NaN     NaN  NaN  NaN   NaN     NaN  NaN\n",
       "141        NaN   NaN      NaN    NaN     NaN  NaN  NaN   NaN     NaN  NaN\n",
       "161        NaN   NaN      NaN    NaN     NaN  NaN  NaN   NaN     NaN  NaN\n",
       "167        NaN   NaN      NaN    NaN     NaN  NaN  NaN   NaN     NaN  NaN\n",
       "176        NaN   NaN      NaN    NaN     NaN  NaN  NaN   NaN     NaN  NaN\n",
       "192        NaN   NaN      NaN    NaN     NaN  NaN  NaN   NaN     NaN  NaN\n",
       "205        NaN   NaN      NaN    NaN     NaN  NaN  NaN   NaN     NaN  NaN\n",
       "222        NaN   NaN      NaN    NaN     NaN  NaN  NaN   NaN     NaN  NaN\n",
       "223        NaN   NaN      NaN    NaN     NaN  NaN  NaN   NaN     NaN  NaN\n",
       "271        NaN   NaN      NaN    NaN     NaN  NaN  NaN   NaN     NaN  NaN"
      ]
     },
     "execution_count": 5,
     "metadata": {},
     "output_type": "execute_result"
    }
   ],
   "source": [
    "data.loc[mask]"
   ]
  },
  {
   "cell_type": "markdown",
   "id": "a19179cc",
   "metadata": {},
   "source": [
    "We don't have duplicates but have NaN values. "
   ]
  },
  {
   "cell_type": "markdown",
   "id": "1a86747d",
   "metadata": {},
   "source": [
    "These NaNs come from the *continue* part of the code. If *tbody* doesn't exist, instead of giving error it ignores and continues process. In this case empty values were appended to the sheet."
   ]
  },
  {
   "cell_type": "code",
   "execution_count": 6,
   "id": "6bd5d6a3",
   "metadata": {},
   "outputs": [],
   "source": [
    "# deleting these nan rows"
   ]
  },
  {
   "cell_type": "code",
   "execution_count": 7,
   "id": "38b8cd62",
   "metadata": {},
   "outputs": [
    {
     "name": "stdout",
     "output_type": "stream",
     "text": [
      "[66, 75, 126, 133, 141, 161, 167, 176, 192, 205, 222, 223, 271]\n"
     ]
    }
   ],
   "source": [
    "indexs = data.loc[mask].index\n",
    "print(list(indexs))"
   ]
  },
  {
   "cell_type": "code",
   "execution_count": 8,
   "id": "bdc37205",
   "metadata": {},
   "outputs": [],
   "source": [
    "for idx in list(indexs):\n",
    "    data.drop(idx, axis=0, inplace=True)"
   ]
  },
  {
   "cell_type": "code",
   "execution_count": 9,
   "id": "a9daa46d",
   "metadata": {},
   "outputs": [
    {
     "data": {
      "text/html": [
       "<div>\n",
       "<style scoped>\n",
       "    .dataframe tbody tr th:only-of-type {\n",
       "        vertical-align: middle;\n",
       "    }\n",
       "\n",
       "    .dataframe tbody tr th {\n",
       "        vertical-align: top;\n",
       "    }\n",
       "\n",
       "    .dataframe thead th {\n",
       "        text-align: right;\n",
       "    }\n",
       "</style>\n",
       "<table border=\"1\" class=\"dataframe\">\n",
       "  <thead>\n",
       "    <tr style=\"text-align: right;\">\n",
       "      <th></th>\n",
       "      <th>Movie_name</th>\n",
       "      <th>Genre</th>\n",
       "      <th>Director</th>\n",
       "      <th>Writer</th>\n",
       "      <th>Painter</th>\n",
       "      <th>Firm</th>\n",
       "      <th>Type</th>\n",
       "      <th>Color</th>\n",
       "      <th>Runtime</th>\n",
       "      <th>Year</th>\n",
       "    </tr>\n",
       "  </thead>\n",
       "  <tbody>\n",
       "  </tbody>\n",
       "</table>\n",
       "</div>"
      ],
      "text/plain": [
       "Empty DataFrame\n",
       "Columns: [Movie_name, Genre, Director, Writer, Painter, Firm, Type, Color, Runtime, Year]\n",
       "Index: []"
      ]
     },
     "execution_count": 9,
     "metadata": {},
     "output_type": "execute_result"
    }
   ],
   "source": [
    "data.loc[data.duplicated()]"
   ]
  },
  {
   "cell_type": "code",
   "execution_count": null,
   "id": "1b1f34bc",
   "metadata": {},
   "outputs": [],
   "source": []
  },
  {
   "cell_type": "markdown",
   "id": "9fd8f4ef",
   "metadata": {},
   "source": [
    "## Data"
   ]
  },
  {
   "cell_type": "code",
   "execution_count": 10,
   "id": "e7c74848",
   "metadata": {},
   "outputs": [
    {
     "name": "stdout",
     "output_type": "stream",
     "text": [
      "<class 'pandas.core.frame.DataFrame'>\n",
      "Int64Index: 261 entries, 0 to 273\n",
      "Data columns (total 10 columns):\n",
      " #   Column      Non-Null Count  Dtype \n",
      "---  ------      --------------  ----- \n",
      " 0   Movie_name  260 non-null    object\n",
      " 1   Genre       259 non-null    object\n",
      " 2   Director    259 non-null    object\n",
      " 3   Writer      256 non-null    object\n",
      " 4   Painter     243 non-null    object\n",
      " 5   Firm        219 non-null    object\n",
      " 6   Type        246 non-null    object\n",
      " 7   Color       255 non-null    object\n",
      " 8   Runtime     244 non-null    object\n",
      " 9   Year        220 non-null    object\n",
      "dtypes: object(10)\n",
      "memory usage: 22.4+ KB\n"
     ]
    }
   ],
   "source": [
    "data.info()"
   ]
  },
  {
   "cell_type": "markdown",
   "id": "248f81b4",
   "metadata": {},
   "source": [
    "### Handling NaNs in columns  "
   ]
  },
  {
   "cell_type": "code",
   "execution_count": 11,
   "id": "53fe9478",
   "metadata": {},
   "outputs": [],
   "source": [
    "data['Movie_name'].fillna('None', inplace=True)  "
   ]
  },
  {
   "cell_type": "code",
   "execution_count": 12,
   "id": "37a8846d",
   "metadata": {},
   "outputs": [],
   "source": [
    "data['Genre'].fillna('None', inplace=True)  "
   ]
  },
  {
   "cell_type": "code",
   "execution_count": 13,
   "id": "22e55c9e",
   "metadata": {},
   "outputs": [],
   "source": [
    "data['Director'].fillna('None', inplace=True)  "
   ]
  },
  {
   "cell_type": "code",
   "execution_count": 14,
   "id": "0f998192",
   "metadata": {},
   "outputs": [],
   "source": [
    "data['Writer'].fillna('None', inplace=True)  "
   ]
  },
  {
   "cell_type": "code",
   "execution_count": 15,
   "id": "6f6e1981",
   "metadata": {},
   "outputs": [],
   "source": [
    "data['Painter'].fillna('None', inplace=True)  "
   ]
  },
  {
   "cell_type": "code",
   "execution_count": 16,
   "id": "9b722004",
   "metadata": {},
   "outputs": [],
   "source": [
    "data['Firm'].fillna('None', inplace=True)  "
   ]
  },
  {
   "cell_type": "code",
   "execution_count": 17,
   "id": "968ac141",
   "metadata": {},
   "outputs": [],
   "source": [
    "data['Type'].fillna('None', inplace=True)  "
   ]
  },
  {
   "cell_type": "code",
   "execution_count": 18,
   "id": "1bd9fe23",
   "metadata": {},
   "outputs": [],
   "source": [
    "data['Color'].fillna('None', inplace=True)  "
   ]
  },
  {
   "cell_type": "code",
   "execution_count": 19,
   "id": "d4d49fcd",
   "metadata": {},
   "outputs": [],
   "source": [
    "data['Year'].fillna('None', inplace=True)  "
   ]
  },
  {
   "cell_type": "markdown",
   "id": "3c86a43d",
   "metadata": {},
   "source": [
    "### Runtime Column -> representing data in minutes"
   ]
  },
  {
   "cell_type": "code",
   "execution_count": 20,
   "id": "a85753bd",
   "metadata": {},
   "outputs": [
    {
     "data": {
      "text/plain": [
       "0        78\n",
       "1        81\n",
       "2        65\n",
       "3        71\n",
       "4        64\n",
       "       ... \n",
       "268      83\n",
       "269    88,5\n",
       "270      72\n",
       "272    77,5\n",
       "273      87\n",
       "Name: Runtime, Length: 261, dtype: object"
      ]
     },
     "execution_count": 20,
     "metadata": {},
     "output_type": "execute_result"
    }
   ],
   "source": [
    "data['Runtime']"
   ]
  },
  {
   "cell_type": "code",
   "execution_count": 21,
   "id": "cf2c2e64",
   "metadata": {},
   "outputs": [],
   "source": [
    "data['Runtime'] = data['Runtime'].apply(lambda x: str(x).replace(',','.'))   # cleaning , "
   ]
  },
  {
   "cell_type": "code",
   "execution_count": 22,
   "id": "c629258f",
   "metadata": {},
   "outputs": [],
   "source": [
    "time = '01:28:04'   # in column we could have this type of data. Let's clean and change it into minute"
   ]
  },
  {
   "cell_type": "code",
   "execution_count": 23,
   "id": "23fca975",
   "metadata": {},
   "outputs": [],
   "source": [
    "data['Runtime'] = data['Runtime'].apply(lambda x: str(int(x.split(':')[0])*60+int(x.split(':')[1])) if ':' in x else x ) "
   ]
  },
  {
   "cell_type": "code",
   "execution_count": 24,
   "id": "2b0ea398",
   "metadata": {},
   "outputs": [],
   "source": [
    "data['Runtime'] = data['Runtime'].astype('float64')  # runtime represented as object, but we need float type."
   ]
  },
  {
   "cell_type": "code",
   "execution_count": 25,
   "id": "5a751f2d",
   "metadata": {},
   "outputs": [
    {
     "data": {
      "text/plain": [
       "0      78.0\n",
       "1      81.0\n",
       "2      65.0\n",
       "3      71.0\n",
       "4      64.0\n",
       "       ... \n",
       "268    83.0\n",
       "269    88.5\n",
       "270    72.0\n",
       "272    77.5\n",
       "273    87.0\n",
       "Name: Runtime, Length: 261, dtype: float64"
      ]
     },
     "execution_count": 25,
     "metadata": {},
     "output_type": "execute_result"
    }
   ],
   "source": [
    "data['Runtime'] "
   ]
  },
  {
   "cell_type": "code",
   "execution_count": 26,
   "id": "fc26aebd",
   "metadata": {},
   "outputs": [],
   "source": [
    "# NaNs in runtime"
   ]
  },
  {
   "cell_type": "code",
   "execution_count": 27,
   "id": "0b1972af",
   "metadata": {},
   "outputs": [
    {
     "data": {
      "text/plain": [
       "81.0"
      ]
     },
     "execution_count": 27,
     "metadata": {},
     "output_type": "execute_result"
    }
   ],
   "source": [
    "median = data[\"Runtime\"].median()\n",
    "\n",
    "median"
   ]
  },
  {
   "cell_type": "code",
   "execution_count": 28,
   "id": "b58befe4",
   "metadata": {},
   "outputs": [],
   "source": [
    "data[\"Runtime\"].fillna(median, inplace=True)"
   ]
  },
  {
   "cell_type": "code",
   "execution_count": null,
   "id": "cd0b0e38",
   "metadata": {},
   "outputs": [],
   "source": []
  },
  {
   "cell_type": "code",
   "execution_count": null,
   "id": "1bd5d433",
   "metadata": {},
   "outputs": [],
   "source": []
  },
  {
   "cell_type": "code",
   "execution_count": 29,
   "id": "de614c01",
   "metadata": {},
   "outputs": [
    {
     "name": "stdout",
     "output_type": "stream",
     "text": [
      "<class 'pandas.core.frame.DataFrame'>\n",
      "Int64Index: 261 entries, 0 to 273\n",
      "Data columns (total 10 columns):\n",
      " #   Column      Non-Null Count  Dtype  \n",
      "---  ------      --------------  -----  \n",
      " 0   Movie_name  261 non-null    object \n",
      " 1   Genre       261 non-null    object \n",
      " 2   Director    261 non-null    object \n",
      " 3   Writer      261 non-null    object \n",
      " 4   Painter     261 non-null    object \n",
      " 5   Firm        261 non-null    object \n",
      " 6   Type        261 non-null    object \n",
      " 7   Color       261 non-null    object \n",
      " 8   Runtime     261 non-null    float64\n",
      " 9   Year        261 non-null    object \n",
      "dtypes: float64(1), object(9)\n",
      "memory usage: 22.4+ KB\n"
     ]
    }
   ],
   "source": [
    "data.info()"
   ]
  },
  {
   "cell_type": "code",
   "execution_count": null,
   "id": "768652b5",
   "metadata": {},
   "outputs": [],
   "source": []
  },
  {
   "cell_type": "code",
   "execution_count": 30,
   "id": "7b3b13e9",
   "metadata": {},
   "outputs": [],
   "source": [
    "data.to_csv('Cleaned_Data.csv')"
   ]
  },
  {
   "cell_type": "code",
   "execution_count": null,
   "id": "5a36151c",
   "metadata": {},
   "outputs": [],
   "source": []
  }
 ],
 "metadata": {
  "kernelspec": {
   "display_name": "Python 3 (ipykernel)",
   "language": "python",
   "name": "python3"
  },
  "language_info": {
   "codemirror_mode": {
    "name": "ipython",
    "version": 3
   },
   "file_extension": ".py",
   "mimetype": "text/x-python",
   "name": "python",
   "nbconvert_exporter": "python",
   "pygments_lexer": "ipython3",
   "version": "3.9.12"
  }
 },
 "nbformat": 4,
 "nbformat_minor": 5
}
